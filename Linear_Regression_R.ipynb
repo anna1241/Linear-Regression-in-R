{
  "nbformat": 4,
  "nbformat_minor": 0,
  "metadata": {
    "colab": {
      "provenance": []
    },
    "kernelspec": {
      "name": "ir",
      "display_name": "R"
    },
    "language_info": {
      "name": "R"
    }
  },
  "cells": [
    {
      "cell_type": "code",
      "source": [
        "par(mfrow=c(2,2))\n",
        "barplot(c(1,2,3,20,5))\n",
        "pie(c(1,2,2,3))\n",
        "data <- rnorm(100);\n",
        "plot(data);\n",
        "v <- lm(c(1,2,3)~c(5,6,7));\n",
        "plot(v);\n",
        "\n",
        "data <- rnorm(100);\n",
        "plot(lm(data ~ c(1:100)));\n",
        "\n",
        "data <- read.csv(\"file.txt\")\n",
        "data $ X\n",
        "data $ Y\n",
        "plot(data);\n",
        "\n",
        "data <- read.csv(\"file.txt\", sep = ( ), header = false);\n",
        "data $ X\n",
        "data $ Y\n",
        "plot(data);\n",
        "\n",
        "data $ z = data $ X + data $ Y;\n",
        "write.csv(data,\"file.txt\");\n",
        "print(data)"
      ],
      "metadata": {
        "id": "rvpG63cF60gO"
      },
      "execution_count": null,
      "outputs": []
    },
    {
      "cell_type": "code",
      "execution_count": null,
      "metadata": {
        "colab": {
          "base_uri": "https://localhost:8080/"
        },
        "id": "vIqSp_3K3PFY",
        "outputId": "562405f4-d423-4a35-8d2f-bbeb056f528d"
      },
      "outputs": [
        {
          "output_type": "stream",
          "name": "stdout",
          "text": [
            " [1]  1  2  3  4  5  6  7  8  9 10\n",
            " [1]  2  4  6  8 10 12 14 16 18 20\n",
            " [1]  3  6  9 12 15 18 21 24 27 30\n",
            " [1]  4  8 12 16 20 24 28 32 36 40\n",
            " [1]  5 10 15 20 25 30 35 40 45 50\n",
            " [1]  6 12 18 24 30 36 42 48 54 60\n",
            " [1]  7 14 21 28 35 42 49 56 63 70\n",
            " [1]  8 16 24 32 40 48 56 64 72 80\n",
            " [1]  9 18 27 36 45 54 63 72 81 90\n",
            " [1]  10  20  30  40  50  60  70  80  90 100\n",
            " [1]  11  22  33  44  55  66  77  88  99 110\n",
            " [1]  12  24  36  48  60  72  84  96 108 120\n",
            " [1]  13  26  39  52  65  78  91 104 117 130\n",
            " [1]  14  28  42  56  70  84  98 112 126 140\n",
            " [1]  15  30  45  60  75  90 105 120 135 150\n",
            " [1]  16  32  48  64  80  96 112 128 144 160\n",
            " [1]  17  34  51  68  85 102 119 136 153 170\n",
            " [1]  18  36  54  72  90 108 126 144 162 180\n",
            " [1]  19  38  57  76  95 114 133 152 171 190\n",
            " [1]  20  40  60  80 100 120 140 160 180 200\n",
            " [1]  21  42  63  84 105 126 147 168 189 210\n",
            " [1]  22  44  66  88 110 132 154 176 198 220\n",
            " [1]  23  46  69  92 115 138 161 184 207 230\n",
            " [1]  24  48  72  96 120 144 168 192 216 240\n",
            " [1]  25  50  75 100 125 150 175 200 225 250\n",
            " [1]  26  52  78 104 130 156 182 208 234 260\n",
            " [1]  27  54  81 108 135 162 189 216 243 270\n",
            " [1]  28  56  84 112 140 168 196 224 252 280\n",
            " [1]  29  58  87 116 145 174 203 232 261 290\n",
            " [1]  30  60  90 120 150 180 210 240 270 300\n",
            " [1]  31  62  93 124 155 186 217 248 279 310\n",
            " [1]  32  64  96 128 160 192 224 256 288 320\n",
            " [1]  33  66  99 132 165 198 231 264 297 330\n",
            " [1]  34  68 102 136 170 204 238 272 306 340\n",
            " [1]  35  70 105 140 175 210 245 280 315 350\n",
            " [1]  36  72 108 144 180 216 252 288 324 360\n",
            " [1]  37  74 111 148 185 222 259 296 333 370\n",
            " [1]  38  76 114 152 190 228 266 304 342 380\n",
            " [1]  39  78 117 156 195 234 273 312 351 390\n",
            " [1]  40  80 120 160 200 240 280 320 360 400\n",
            " [1]  41  82 123 164 205 246 287 328 369 410\n",
            " [1]  42  84 126 168 210 252 294 336 378 420\n",
            " [1]  43  86 129 172 215 258 301 344 387 430\n",
            " [1]  44  88 132 176 220 264 308 352 396 440\n",
            " [1]  45  90 135 180 225 270 315 360 405 450\n",
            " [1]  46  92 138 184 230 276 322 368 414 460\n",
            " [1]  47  94 141 188 235 282 329 376 423 470\n",
            " [1]  48  96 144 192 240 288 336 384 432 480\n",
            " [1]  49  98 147 196 245 294 343 392 441 490\n",
            " [1]  50 100 150 200 250 300 350 400 450 500\n",
            " [1]  51 102 153 204 255 306 357 408 459 510\n",
            " [1]  52 104 156 208 260 312 364 416 468 520\n",
            " [1]  53 106 159 212 265 318 371 424 477 530\n",
            " [1]  54 108 162 216 270 324 378 432 486 540\n",
            " [1]  55 110 165 220 275 330 385 440 495 550\n",
            " [1]  56 112 168 224 280 336 392 448 504 560\n",
            " [1]  57 114 171 228 285 342 399 456 513 570\n",
            " [1]  58 116 174 232 290 348 406 464 522 580\n",
            " [1]  59 118 177 236 295 354 413 472 531 590\n",
            " [1]  60 120 180 240 300 360 420 480 540 600\n",
            " [1]  61 122 183 244 305 366 427 488 549 610\n",
            " [1]  62 124 186 248 310 372 434 496 558 620\n",
            " [1]  63 126 189 252 315 378 441 504 567 630\n",
            " [1]  64 128 192 256 320 384 448 512 576 640\n",
            " [1]  65 130 195 260 325 390 455 520 585 650\n",
            " [1]  66 132 198 264 330 396 462 528 594 660\n",
            " [1]  67 134 201 268 335 402 469 536 603 670\n",
            " [1]  68 136 204 272 340 408 476 544 612 680\n",
            " [1]  69 138 207 276 345 414 483 552 621 690\n",
            " [1]  70 140 210 280 350 420 490 560 630 700\n",
            " [1]  71 142 213 284 355 426 497 568 639 710\n",
            " [1]  72 144 216 288 360 432 504 576 648 720\n",
            " [1]  73 146 219 292 365 438 511 584 657 730\n",
            " [1]  74 148 222 296 370 444 518 592 666 740\n",
            " [1]  75 150 225 300 375 450 525 600 675 750\n",
            " [1]  76 152 228 304 380 456 532 608 684 760\n",
            " [1]  77 154 231 308 385 462 539 616 693 770\n",
            " [1]  78 156 234 312 390 468 546 624 702 780\n",
            " [1]  79 158 237 316 395 474 553 632 711 790\n",
            " [1]  80 160 240 320 400 480 560 640 720 800\n",
            " [1]  81 162 243 324 405 486 567 648 729 810\n",
            " [1]  82 164 246 328 410 492 574 656 738 820\n",
            " [1]  83 166 249 332 415 498 581 664 747 830\n",
            " [1]  84 168 252 336 420 504 588 672 756 840\n",
            " [1]  85 170 255 340 425 510 595 680 765 850\n",
            " [1]  86 172 258 344 430 516 602 688 774 860\n",
            " [1]  87 174 261 348 435 522 609 696 783 870\n",
            " [1]  88 176 264 352 440 528 616 704 792 880\n",
            " [1]  89 178 267 356 445 534 623 712 801 890\n",
            " [1]  90 180 270 360 450 540 630 720 810 900\n",
            " [1]  91 182 273 364 455 546 637 728 819 910\n",
            " [1]  92 184 276 368 460 552 644 736 828 920\n",
            " [1]  93 186 279 372 465 558 651 744 837 930\n",
            " [1]  94 188 282 376 470 564 658 752 846 940\n",
            " [1]  95 190 285 380 475 570 665 760 855 950\n",
            " [1]  96 192 288 384 480 576 672 768 864 960\n",
            " [1]  97 194 291 388 485 582 679 776 873 970\n",
            " [1]  98 196 294 392 490 588 686 784 882 980\n",
            " [1]  99 198 297 396 495 594 693 792 891 990\n",
            " [1]  100  200  300  400  500  600  700  800  900 1000\n"
          ]
        }
      ],
      "source": [
        "data <- read.csv(\"quiz.txt\");\n",
        "for( i in 1:100){\n",
        "    data <- i * 1:10\n",
        "    write.csv(data,\"quiz.txt\")\n",
        "    print(data)\n",
        "}"
      ]
    },
    {
      "cell_type": "code",
      "source": [
        "data <- read.csv(\"quiz.txt\");\n",
        "com = 0;\n",
        "lst=c()\n",
        "for(i in 1:100){\n",
        "  com =com + sum(data$ i>500);\n",
        "  lst = lst[length(lst)+1] = com;\n",
        "}\n",
        "plot(lst)\n",
        "print(lst)"
      ],
      "metadata": {
        "colab": {
          "base_uri": "https://localhost:8080/",
          "height": 454
        },
        "id": "g9gvsdEH65aN",
        "outputId": "2a375c2f-eab5-489d-970a-e2982def2d8d"
      },
      "execution_count": null,
      "outputs": [
        {
          "output_type": "stream",
          "name": "stdout",
          "text": [
            "[1] 0\n"
          ]
        },
        {
          "output_type": "display_data",
          "data": {
            "text/plain": [
              "plot without title"
            ],
            "image/png": "[encoded data removed]"
          },
          "metadata": {
            "image/png": {
              "width": 420,
              "height": 420
            }
          }
        }
      ]
    }
  ]
}